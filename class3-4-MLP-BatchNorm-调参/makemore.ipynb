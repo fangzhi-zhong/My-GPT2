{
 "cells": [
  {
   "cell_type": "code",
   "execution_count": 43,
   "id": "cf3c0630",
   "metadata": {},
   "outputs": [],
   "source": [
    "import torch\n",
    "import torch.nn.functional as F\n",
    "import matplotlib.pyplot as plt\n",
    "%matplotlib inline\n"
   ]
  },
  {
   "cell_type": "code",
   "execution_count": 44,
   "id": "d039a9c6",
   "metadata": {},
   "outputs": [],
   "source": [
    "words = open('names.txt', 'r').read().splitlines()"
   ]
  },
  {
   "cell_type": "code",
   "execution_count": 45,
   "id": "f89bfc82",
   "metadata": {},
   "outputs": [],
   "source": [
    "chars = sorted(list(set(''.join(words))))\n",
    "stoi = {s:i+1 for i, s in enumerate(chars)}\n",
    "stoi['.'] = 0\n",
    "itos = {i:s for s,i in stoi.items()}"
   ]
  },
  {
   "cell_type": "code",
   "execution_count": 46,
   "id": "f5360c95",
   "metadata": {},
   "outputs": [],
   "source": [
    "block_size = 3\n",
    "X, Y =[], []\n",
    "for w in words:\n",
    "\n",
    "    context = [0]*block_size\n",
    "    for ch in w + '.':\n",
    "        ix = stoi[ch]\n",
    "        X.append(context)\n",
    "        Y.append(ix)\n",
    "        context = context[1:] + [ix]\n",
    "\n",
    "X = torch.tensor(X)\n",
    "Y = torch.tensor(Y)\n"
   ]
  },
  {
   "cell_type": "code",
   "execution_count": 47,
   "id": "d7f9ddf4",
   "metadata": {},
   "outputs": [
    {
     "name": "stdout",
     "output_type": "stream",
     "text": [
      "torch.Size([182625, 3]) torch.Size([182625])\n",
      "torch.Size([22655, 3]) torch.Size([22655])\n",
      "torch.Size([22866, 3]) torch.Size([22866])\n"
     ]
    }
   ],
   "source": [
    "# build the dataset\n",
    "\n",
    "def build_dataset(words):\n",
    "    block_size = 3\n",
    "    X, Y =[], []\n",
    "    for w in words:\n",
    "\n",
    "        context = [0]*block_size\n",
    "        for ch in w + '.':\n",
    "            ix = stoi[ch]\n",
    "            X.append(context)\n",
    "            Y.append(ix)\n",
    "            context = context[1:] + [ix]\n",
    "\n",
    "    X = torch.tensor(X)\n",
    "    Y = torch.tensor(Y)\n",
    "    print(X.shape, Y.shape)\n",
    "    return X, Y\n",
    "\n",
    "import random\n",
    "random.seed(42)\n",
    "random.shuffle(words)\n",
    "n1 = int(0.8*len(words))\n",
    "n2 = int(0.9*len(words))\n",
    "\n",
    "Xtr, Ytr = build_dataset(words[:n1])\n",
    "Xdev, Ydev = build_dataset(words[n1:n2])\n",
    "Xte, Yte = build_dataset(words[n2:])"
   ]
  },
  {
   "cell_type": "code",
   "execution_count": 48,
   "id": "6a20fc46",
   "metadata": {},
   "outputs": [],
   "source": [
    "# -------------------- ----------------"
   ]
  },
  {
   "cell_type": "code",
   "execution_count": 49,
   "id": "1f484697",
   "metadata": {},
   "outputs": [
    {
     "data": {
      "text/plain": [
       "(torch.Size([228146, 3]), torch.Size([228146]))"
      ]
     },
     "execution_count": 49,
     "metadata": {},
     "output_type": "execute_result"
    }
   ],
   "source": [
    "X.shape, Y.shape"
   ]
  },
  {
   "cell_type": "code",
   "execution_count": null,
   "id": "eb210624",
   "metadata": {},
   "outputs": [],
   "source": [
    "hidden_size = 200\n",
    "n_embd = 10\n",
    "vocab_size = 27\n",
    "\n",
    "g = torch.Generator().manual_seed(2147483647)\n",
    "C = torch.randn((vocab_size, n_embd), generator=g)\n",
    "W1 = torch.randn((n_embd * block_size, hidden_size), generator=g) * (5/3)/((n_embd*block_size)**0.5)\n",
    "# b1 = torch.randn(hidden_size, generator=g) * 0.01 有归一化的情况下，b1的作用会被bnbias代替掉，使得b1的grad一直为0，导致资源浪费，因此可以不需要b1\n",
    "W2 = torch.randn((hidden_size, vocab_size), generator=g) * 0.01\n",
    "b2 = torch.randn(vocab_size, generator=g)\n",
    "\n",
    "bngain = torch.ones(hidden_size)\n",
    "bnbias = torch.zeros(hidden_size)\n",
    "\n",
    "\n",
    "bnmean_running = torch.zeros((1, hidden_size))\n",
    "bnstd_running = torch.ones((1, hidden_size))\n",
    "\n",
    "parameters=[C, W1, W2, b2, bnbias, bngain]"
   ]
  },
  {
   "cell_type": "code",
   "execution_count": 51,
   "id": "db5d0776",
   "metadata": {},
   "outputs": [],
   "source": [
    "\n",
    "for p in parameters:\n",
    "    p.requires_grad = True"
   ]
  },
  {
   "cell_type": "code",
   "execution_count": 52,
   "id": "6cf4f9c9",
   "metadata": {},
   "outputs": [],
   "source": [
    "lre = torch.linspace(-3, 0, 1000)\n",
    "lrs = 10**lre"
   ]
  },
  {
   "cell_type": "code",
   "execution_count": 53,
   "id": "6cae1461",
   "metadata": {},
   "outputs": [],
   "source": [
    "lri = []\n",
    "lossi = []\n",
    "stepi = []\n"
   ]
  },
  {
   "cell_type": "code",
   "execution_count": null,
   "id": "c17e9dd4",
   "metadata": {},
   "outputs": [],
   "source": [
    "\n",
    "\n",
    "for _ in range(200000):\n",
    "\n",
    "    # minibatch construct\n",
    "    ix = torch.randint(0, Xtr.shape[0], (32,))\n",
    "\n",
    "    # forward pass\n",
    "    emb = C[Xtr[ix]]\n",
    "    # Linear layer\n",
    "    hpreact = emb.view(-1, 30) @ W1\n",
    "    # BatchNorm layer\n",
    "    bnmeani = hpreact.mean(0, keepdim = True)\n",
    "    bnstdi = hpreact.std(0, keepdim = True)\n",
    "    hpreact = bngain * (hpreact - bnmeani) / bnstdi + bnbias# 批归一化 batch normalize\n",
    "    with torch.no_grad():\n",
    "        bnmean_running = 0.999*bnmean_running + 0.001 * bnmeani\n",
    "        bnstd_running = 0.999*bnstd_running + 0.001*bnstdi\n",
    "    #Non-linearity 非线性化\n",
    "    h = torch.tanh(hpreact) # hidden layer\n",
    "    logits = h @ W2 + b2 # output layer\n",
    "    loss = F.cross_entropy(logits, Ytr[ix]) # loss function\n",
    "\n",
    "    # backward pass\n",
    "    for p in parameters:\n",
    "        p.grad = None\n",
    "    loss.backward()\n",
    "\n",
    "    # lri.append(lre[_].item())\n",
    "    # lossi.append(loss.item())\n",
    "    lr = 0.1 if _<100000 else 0.01\n",
    "    for p in parameters:\n",
    "        p.data += -lr * p.grad\n",
    "    stepi.append(_)\n",
    "    lossi.append(loss.item())"
   ]
  },
  {
   "cell_type": "code",
   "execution_count": 14,
   "id": "5c69ac69",
   "metadata": {},
   "outputs": [
    {
     "data": {
      "text/plain": [
       "[<matplotlib.lines.Line2D at 0x1bb42451d20>]"
      ]
     },
     "execution_count": 14,
     "metadata": {},
     "output_type": "execute_result"
    },
    {
     "data": {
      "image/png": "[encoded data removed]",
      "text/plain": [
       "<Figure size 640x480 with 1 Axes>"
      ]
     },
     "metadata": {},
     "output_type": "display_data"
    }
   ],
   "source": [
    "plt.plot(stepi, lossi)"
   ]
  },
  {
   "cell_type": "markdown",
   "id": "7e5d6ac0",
   "metadata": {},
   "source": [
    "归一化操作中，期待的输入是一个batch，无法用单一的样本去获得输出，因此有了一下操作，让该网络的输出可以是单样本"
   ]
  },
  {
   "cell_type": "code",
   "execution_count": null,
   "id": "0a8e46d6",
   "metadata": {},
   "outputs": [],
   "source": [
    "with torch.no_grad():# 可以在训练过程中动态维护\n",
    "    emb = C[Xtr]\n",
    "    embcat = emb.view(emb.shape[0], -1)\n",
    "    hpreact = embcat @ W1\n",
    "    bnmean = hpreact.mean(0, keepdim=True)\n",
    "    bnstd = hpreact.std(0, keepdim=True)"
   ]
  },
  {
   "cell_type": "code",
   "execution_count": null,
   "id": "0d937b4b",
   "metadata": {},
   "outputs": [],
   "source": [
    "bnmean"
   ]
  },
  {
   "cell_type": "code",
   "execution_count": null,
   "id": "b9fecfcc",
   "metadata": {},
   "outputs": [],
   "source": [
    "bnmean_running"
   ]
  },
  {
   "cell_type": "code",
   "execution_count": null,
   "id": "ea35de1c",
   "metadata": {},
   "outputs": [
    {
     "name": "stdout",
     "output_type": "stream",
     "text": [
      "train 2.0677528381347656\n",
      "val 2.10795521736145\n",
      "test 2.105379819869995\n"
     ]
    }
   ],
   "source": [
    "@torch.no_grad()\n",
    "def split_loss(split):\n",
    "    X, Y = {\n",
    "        'train': (Xtr, Ytr),\n",
    "        'val': (Xdev, Ydev),\n",
    "        'test': (Xte, Yte)\n",
    "    }[split]\n",
    "    emb = C[X]\n",
    "    hpreact = emb.view(emb.shape[0], -1) @ W1\n",
    "    hpreact = bngain * (hpreact - bnmean_running) / bnstd_running + bnbias# 批归一化 batch normalize\n",
    "    h = torch.tanh(hpreact)\n",
    "    logits = h @ W2 + b2\n",
    "    loss = F.cross_entropy(logits, Y)\n",
    "    print(split, loss.item())\n",
    "\n",
    "split_loss('train')\n",
    "split_loss('val')\n",
    "split_loss('test')"
   ]
  },
  {
   "cell_type": "code",
   "execution_count": null,
   "id": "972caee9",
   "metadata": {},
   "outputs": [
    {
     "name": "stdout",
     "output_type": "stream",
     "text": [
      "izell.\n",
      "ana.\n",
      "kemiko.\n",
      "lilyam.\n",
      "inn.\n",
      "jaxsiah.\n",
      "daeli.\n",
      "rodyn.\n",
      "karell.\n",
      "jaelynn.\n",
      "yureem.\n",
      "fiston.\n",
      "chariana.\n",
      "lynnie.\n",
      "zaiyah.\n",
      "cairrett.\n",
      "atly.\n",
      "kalli.\n",
      "zasen.\n",
      "vian.\n"
     ]
    }
   ],
   "source": [
    "g = torch.Generator().manual_seed(12234234234)\n",
    "\n",
    "for _ in range(20):\n",
    "\n",
    "    out = []\n",
    "    context = [0]*block_size\n",
    "    while True:\n",
    "        emb = C[torch.tensor(context)]\n",
    "        #print(emb.shape)\n",
    "        hpreact = emb.view(1,-1) @ W1 +b1\n",
    "        #print(hpreact.shape)\n",
    "        hpreact = bngain * (hpreact - bnmean_running) / bnstd_running + bnbias# 批归一化 batch normalize\n",
    "        #print(hpreact)\n",
    "        h = torch.tanh(hpreact)\n",
    "        #print(h)\n",
    "        logits = h @ W2 + b2\n",
    "        probs = F.softmax(logits, dim=1)\n",
    "        ix = torch.multinomial(probs, num_samples=1, generator=g).item()\n",
    "        context = context[1:] + [ix]\n",
    "        out.append(ix)\n",
    "        if ix==0:\n",
    "            break\n",
    "\n",
    "    print(''.join(itos[i] for i in out))"
   ]
  },
  {
   "cell_type": "code",
   "execution_count": null,
   "id": "78604519",
   "metadata": {},
   "outputs": [],
   "source": []
  }
 ],
 "metadata": {
  "kernelspec": {
   "display_name": "gpt",
   "language": "python",
   "name": "python3"
  },
  "language_info": {
   "codemirror_mode": {
    "name": "ipython",
    "version": 3
   },
   "file_extension": ".py",
   "mimetype": "text/x-python",
   "name": "python",
   "nbconvert_exporter": "python",
   "pygments_lexer": "ipython3",
   "version": "3.10.16"
  }
 },
 "nbformat": 4,
 "nbformat_minor": 5
}
